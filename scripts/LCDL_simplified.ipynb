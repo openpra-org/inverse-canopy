{
 "cells": [
  {
   "cell_type": "markdown",
   "metadata": {
    "ExecuteTime": {
     "start_time": "2024-02-09T22:17:41.413142Z"
    },
    "id": "VtkbiY_G3SNh"
   },
   "source": [
    "# dependencies"
   ]
  },
  {
   "cell_type": "code",
   "execution_count": 1,
   "metadata": {
    "ExecuteTime": {
     "end_time": "2024-02-11T01:58:46.029260Z",
     "start_time": "2024-02-11T01:58:46.023926Z"
    }
   },
   "outputs": [],
   "source": [
    "import sys\n",
    "sys.path.insert(0, '../')  # Adjust the path as necessary\n",
    "%load_ext autoreload"
   ]
  },
  {
   "cell_type": "code",
   "execution_count": 2,
   "metadata": {
    "ExecuteTime": {
     "end_time": "2024-02-11T01:58:46.489717Z",
     "start_time": "2024-02-11T01:58:46.484187Z"
    }
   },
   "outputs": [],
   "source": [
    "%autoreload 2"
   ]
  },
  {
   "cell_type": "code",
   "execution_count": 3,
   "metadata": {
    "ExecuteTime": {
     "end_time": "2024-02-11T01:58:51.219876Z",
     "start_time": "2024-02-11T01:58:47.011565Z"
    },
    "colab": {
     "base_uri": "https://localhost:8080/"
    },
    "id": "W4kXa3G0ayvu",
    "outputId": "14262c14-c74b-4ab8-fae5-84a6d9b1dc14"
   },
   "outputs": [
    {
     "name": "stderr",
     "output_type": "stream",
     "text": [
      "2024-02-11 00:19:42.451225: I tensorflow/core/platform/cpu_feature_guard.cc:182] This TensorFlow binary is optimized to use available CPU instructions in performance-critical operations.\n",
      "To enable the following instructions: AVX2 FMA, in other operations, rebuild TensorFlow with the appropriate compiler flags.\n"
     ]
    }
   ],
   "source": [
    "from inverse_canopy import InverseCanopy"
   ]
  },
  {
   "cell_type": "markdown",
   "metadata": {
    "id": "1vwAAjKk52L6"
   },
   "source": [
    "# **Model Inputs**"
   ]
  },
  {
   "cell_type": "code",
   "outputs": [],
   "source": [
    "from inverse_canopy import InverseCanopy\n",
    "import tensorflow as tf\n",
    "import numpy as np\n",
    "\n",
    "tunable = {\n",
    " 'num_samples': 10000,    # number of monte carlo samples\n",
    " 'learning_rate': 0.1,    # the gradient update rate\n",
    " 'dtype': tf.float64,     # use 64-bit floats\n",
    " 'epsilon': 1e-30,        # useful for avoiding log(0 + epsilon) type errors\n",
    " 'max_steps': 5000,       # maximum steps, regardless of convergence\n",
    " 'patience': 50,          # number of steps to wait before early stopping if the loss does not improve   \n",
    "}\n",
    "\n",
    "conditional_events = {\n",
    "    'names': ['LCDL', 'PKRU', 'DHRS', 'DHRL'],\n",
    "    'bounds': {\n",
    "        'mean': {\n",
    "            'min': 1e-14,\n",
    "            'max': 1.00,\n",
    "        },\n",
    "        'std': {\n",
    "            'min': 1e-10,\n",
    "            'max': 1e8,\n",
    "        },\n",
    "     },\n",
    "    'initial': {\n",
    "       'mean': 5e-1,\n",
    "       'std': 1e8,\n",
    "    }\n",
    "}\n",
    "\n",
    "end_states = {\n",
    "    'LCDL-1': {\n",
    "        'sequence': [1, 0, 0, 0],\n",
    "        'probability': 1.1e-8,\n",
    "    },\n",
    "    'LCDL-2': {\n",
    "        'sequence': [1, 0, 0, 1],\n",
    "        'probability': 1.00e-11,\n",
    "    },\n",
    "    'LCDL-3': {\n",
    "        'sequence': [1, 0, 1, np.nan],\n",
    "        'probability': 1.00e-11,\n",
    "    },\n",
    "    'LCDL-4': {\n",
    "        'sequence': [1, 1, np.nan, np.nan],\n",
    "        'probability': 1.00e-11,\n",
    "    },\n",
    "    'LCDL-0': {\n",
    "        'sequence': [0, np.nan, np.nan, np.nan],\n",
    "        'probability': 1.0 - 1.1e-8 - 1.00e-11 - 1.00e-11 - 1.00e-11, # one minus all the other end-states\n",
    "    },\n",
    "}\n",
    "\n",
    "model = InverseCanopy(conditional_events, end_states, tunable)\n",
    "model.fit(steps=tunable['max_steps'], patience=tunable['patience'], learning_rate=tunable['learning_rate'])\n",
    "model.summarize(show_plot=True, show_metrics=False)"
   ],
   "metadata": {
    "collapsed": false
   }
  },
  {
   "cell_type": "code",
   "outputs": [],
   "source": [
    "tunable = {\n",
    " 'num_samples': 1000,     # number of monte carlo samples\n",
    " 'learning_rate': 0.1,    # the gradient update rate\n",
    " 'dtype': tf.float64,     # use 64-bit floats\n",
    " 'epsilon': 1e-30,        # useful for avoiding log(0 + epsilon) type errors\n",
    " 'max_steps': 5000,       # maximum steps, regardless of convergence\n",
    " 'patience': 50,          # number of steps to wait before stopping, if the loss does not improve\n",
    "}\n",
    "\n",
    "conditional_events = {\n",
    "    'names': ['SDFR      ', 'LMFD      ', 'RFIR      ', 'LLRF      ', 'SSSD|~LLRF', 'SSSD|LLRF ', 'SYSO|~LLRF', 'SYSO|LLRF '],  # Assuming names based on the sequences\n",
    "    'bounds': {\n",
    "        'mean': {\n",
    "            'min': 1e-14,\n",
    "            'max': 1.00,\n",
    "        },\n",
    "        'std': {\n",
    "            'min': 1e-10,\n",
    "            'max': 1e8,\n",
    "        },\n",
    "     },\n",
    "    'initial': {\n",
    "       'mean': 5e-1,\n",
    "       'std': 1e8,\n",
    "    }\n",
    "}\n",
    "\n",
    "end_states = {\n",
    "    'SDFR-0': {\n",
    "        'sequence': [0, np.nan, np.nan, np.nan, np.nan, np.nan, np.nan, np.nan],\n",
    "        'probability': 1 - 4.2e-3 - 4.2e-5 - 5.8e-9 - 2.1e-5 - 1.9e-5 - 2.1e-6 - 1.7e-8 - 4.3e-9,\n",
    "    },\n",
    "    'SDFR-1': {\n",
    "        'sequence': [1, 0, 0, 0, 0, np.nan, np.nan, np.nan],\n",
    "        'probability': 4.2e-3,\n",
    "    },\n",
    "    'SDFR-2': {\n",
    "        'sequence': [1, 0, 0, 0, 1, np.nan, 0, np.nan]  ,\n",
    "        'probability': 4.2e-5,\n",
    "    },\n",
    "    'SDFR-3': {\n",
    "        'sequence': [1, 0, 0, 0, 1, np.nan, 1, np.nan],\n",
    "        'probability': 5.8e-9,\n",
    "    },\n",
    "    'SDFR-4': {\n",
    "        'sequence': [1, 0, 0, 1, np.nan, 0, np.nan, np.nan],\n",
    "        'probability': 2.1e-5,\n",
    "    },\n",
    "    'SDFR-5': {\n",
    "        'sequence': [1, 0, 0, 1, np.nan, 1, np.nan, 0],\n",
    "        'probability': 1.9e-5,\n",
    "    },\n",
    "    'SDFR-6': {\n",
    "        'sequence': [1, 0, 0, 1, np.nan, 1, np.nan, 1],\n",
    "        'probability': 2.1e-6,\n",
    "    },\n",
    "    'SDFR-7': {\n",
    "        'sequence': [1, 0, 1, np.nan, np.nan, np.nan, np.nan, np.nan],\n",
    "        'probability': 1.7e-8,  \n",
    "    },\n",
    "    'SDFR-8': {\n",
    "        'sequence': [1, 1, np.nan, np.nan, np.nan, np.nan, np.nan, np.nan],\n",
    "        'probability': 4.3e-9,  \n",
    "    },\n",
    "}\n",
    "\n",
    "model = InverseCanopy(conditional_events, end_states, tunable)\n",
    "model.fit(steps=tunable['max_steps'], patience=tunable['patience'], learning_rate=tunable['learning_rate'])\n",
    "model.summarize(show_plot=True, show_metrics=False)"
   ],
   "metadata": {
    "collapsed": false
   }
  }
 ],
 "metadata": {
  "accelerator": "GPU",
  "colab": {
   "collapsed_sections": [
    "33M-ijkwzA6S",
    "xsqjmoGTLQEv",
    "duRupGgoVhyz"
   ],
   "gpuType": "T4",
   "machine_shape": "hm",
   "provenance": []
  },
  "kernelspec": {
   "display_name": "Python 3 (ipykernel)",
   "language": "python",
   "name": "python3"
  },
  "language_info": {
   "codemirror_mode": {
    "name": "ipython",
    "version": 3
   },
   "file_extension": ".py",
   "mimetype": "text/x-python",
   "name": "python",
   "nbconvert_exporter": "python",
   "pygments_lexer": "ipython3",
   "version": "3.10.13"
  }
 },
 "nbformat": 4,
 "nbformat_minor": 4
}
